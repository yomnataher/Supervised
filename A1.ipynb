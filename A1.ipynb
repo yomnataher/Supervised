{
  "nbformat": 4,
  "nbformat_minor": 0,
  "metadata": {
    "colab": {
      "name": "Untitled4.ipynb",
      "provenance": [],
      "toc_visible": true
    },
    "kernelspec": {
      "name": "python3",
      "display_name": "Python 3"
    },
    "language_info": {
      "name": "python"
    }
  },
  "cells": [
    {
      "cell_type": "code",
      "execution_count": 5,
      "metadata": {
        "id": "-4ziyw23Ehy2"
      },
      "outputs": [],
      "source": [
        "import tensorflow as tf\n",
        "import tensorflow_datasets as tfds\n",
        "import numpy as np\n",
        "from matplotlib import pyplot as plt\n",
        "from sklearn.neighbors import KNeighborsClassifier\n",
        "from sklearn.metrics import accuracy_score"
      ]
    },
    {
      "cell_type": "code",
      "source": [
        "mnist = tf.keras.datasets.mnist"
      ],
      "metadata": {
        "id": "yWCImGIKEr4R"
      },
      "execution_count": 7,
      "outputs": []
    },
    {
      "cell_type": "code",
      "source": [
        "(train_images, train_labels), (test_images, test_labels) = mnist.load_data()"
      ],
      "metadata": {
        "colab": {
          "base_uri": "https://localhost:8080/"
        },
        "id": "h1l62-4PEwac",
        "outputId": "7606296d-ac8e-4f22-c082-f56a927bbecf"
      },
      "execution_count": 8,
      "outputs": [
        {
          "output_type": "stream",
          "name": "stdout",
          "text": [
            "Downloading data from https://storage.googleapis.com/tensorflow/tf-keras-datasets/mnist.npz\n",
            "11493376/11490434 [==============================] - 0s 0us/step\n",
            "11501568/11490434 [==============================] - 0s 0us/step\n"
          ]
        }
      ]
    },
    {
      "cell_type": "code",
      "source": [
        "print(\n",
        "    \"Training Data Shape is {} ,  Its Type Is {} ,\\nTest Data Shape is {} , Its Type is {} \".format(\n",
        "        train_images.shape , type(train_images) , test_images.shape , type(test_images)\n",
        "    )\n",
        ")"
      ],
      "metadata": {
        "colab": {
          "base_uri": "https://localhost:8080/"
        },
        "id": "OizgtOoFE08Q",
        "outputId": "d3a106aa-f88f-4c3e-da62-697264b69560"
      },
      "execution_count": 9,
      "outputs": [
        {
          "output_type": "stream",
          "name": "stdout",
          "text": [
            "Training Data Shape is (60000, 28, 28) ,  Its Type Is <class 'numpy.ndarray'> ,\n",
            "Test Data Shape is (10000, 28, 28) , Its Type is <class 'numpy.ndarray'> \n"
          ]
        }
      ]
    },
    {
      "cell_type": "code",
      "source": [
        "def display_img(mnist_index):\n",
        "   \n",
        "    image = mnist_index\n",
        "    image = np.array(image, dtype='float')\n",
        "    pixels = image.reshape((28, 28))\n",
        "    plt.imshow(pixels, cmap='gray')\n",
        "    plt.show()"
      ],
      "metadata": {
        "id": "aAzopfN2E3Sw"
      },
      "execution_count": 10,
      "outputs": []
    },
    {
      "cell_type": "code",
      "source": [
        "display_img(train_images[20])"
      ],
      "metadata": {
        "colab": {
          "base_uri": "https://localhost:8080/",
          "height": 265
        },
        "id": "CJ-bq0pjE958",
        "outputId": "81edaff1-0f3f-48b6-e64c-9359dc8dfa9d"
      },
      "execution_count": 11,
      "outputs": [
        {
          "output_type": "display_data",
          "data": {
            "text/plain": [
              "<Figure size 432x288 with 1 Axes>"
            ],
            "image/png": "[encoded data removed]"
          },
          "metadata": {
            "needs_background": "light"
          }
        }
      ]
    },
    {
      "cell_type": "code",
      "source": [
        "train_labels[20]"
      ],
      "metadata": {
        "colab": {
          "base_uri": "https://localhost:8080/"
        },
        "id": "CyWWg2PKFD0a",
        "outputId": "364990ff-65b4-4658-97e7-f63c1d63d4f6"
      },
      "execution_count": 12,
      "outputs": [
        {
          "output_type": "execute_result",
          "data": {
            "text/plain": [
              "4"
            ]
          },
          "metadata": {},
          "execution_count": 12
        }
      ]
    },
    {
      "cell_type": "code",
      "source": [
        "display_img(test_images[50])"
      ],
      "metadata": {
        "colab": {
          "base_uri": "https://localhost:8080/",
          "height": 265
        },
        "id": "Wr_ePC71FHMb",
        "outputId": "99d1582b-e217-404a-e532-f10daa5b2554"
      },
      "execution_count": 13,
      "outputs": [
        {
          "output_type": "display_data",
          "data": {
            "text/plain": [
              "<Figure size 432x288 with 1 Axes>"
            ],
            "image/png": "[encoded data removed]"
          },
          "metadata": {
            "needs_background": "light"
          }
        }
      ]
    },
    {
      "cell_type": "code",
      "source": [
        "test_labels[50]"
      ],
      "metadata": {
        "colab": {
          "base_uri": "https://localhost:8080/"
        },
        "id": "8ae-EAnyFK3y",
        "outputId": "b69d3119-d9ac-459e-b3aa-377fb83f3741"
      },
      "execution_count": 16,
      "outputs": [
        {
          "output_type": "execute_result",
          "data": {
            "text/plain": [
              "6"
            ]
          },
          "metadata": {},
          "execution_count": 16
        }
      ]
    },
    {
      "cell_type": "code",
      "source": [
        "def imaged_grid(img , row , col ):\n",
        " \n",
        "    x , y = img.shape\n",
        "\n",
        "    assert x % row == 0, \"{} rows is not evenly divisble by {}\".format(x, row)\n",
        "    assert y % col == 0, \"{} cols is not evenly divisble by {}\".format(y, col)\n",
        "    \n",
        "    return (img.reshape ( x //row, row, -1, col)\n",
        "               .swapaxes(1,2)\n",
        "               .reshape(-1, row, col))\n",
        "    "
      ],
      "metadata": {
        "id": "AqDmafTOFRjB"
      },
      "execution_count": 17,
      "outputs": []
    },
    {
      "cell_type": "code",
      "source": [
        "print(imaged_grid(test_images[20] , 4 , 4 ).shape)\n",
        "imaged_grid(test_images[20] , 4 , 4 )"
      ],
      "metadata": {
        "colab": {
          "base_uri": "https://localhost:8080/"
        },
        "id": "csJLoxZ7GDNA",
        "outputId": "4e615911-d963-440a-e1f4-7a6eac562723"
      },
      "execution_count": 18,
      "outputs": [
        {
          "output_type": "stream",
          "name": "stdout",
          "text": [
            "(49, 4, 4)\n"
          ]
        },
        {
          "output_type": "execute_result",
          "data": {
            "text/plain": [
              "array([[[  0,   0,   0,   0],\n",
              "        [  0,   0,   0,   0],\n",
              "        [  0,   0,   0,   0],\n",
              "        [  0,   0,   0,   0]],\n",
              "\n",
              "       [[  0,   0,   0,   0],\n",
              "        [  0,   0,   0,   0],\n",
              "        [  0,   0,   0,   0],\n",
              "        [  0,   0,   0,   0]],\n",
              "\n",
              "       [[  0,   0,   0,   0],\n",
              "        [  0,   0,   0,   0],\n",
              "        [  0,   0,   0,   0],\n",
              "        [  0,   0,   0,   0]],\n",
              "\n",
              "       [[  0,   0,   0,   0],\n",
              "        [  0,   0,   0,   0],\n",
              "        [  0,   0,   0,   0],\n",
              "        [  0,   0,   0,   0]],\n",
              "\n",
              "       [[  0,   0,   0,   0],\n",
              "        [  0,   0,   0,   0],\n",
              "        [  0,   0,   0,   0],\n",
              "        [  0,   0,   0,   0]],\n",
              "\n",
              "       [[  0,   0,   0,   0],\n",
              "        [  0,   0,   0,   0],\n",
              "        [  0,   0,   0,   0],\n",
              "        [  0,   0,   0,   0]],\n",
              "\n",
              "       [[  0,   0,   0,   0],\n",
              "        [  0,   0,   0,   0],\n",
              "        [  0,   0,   0,   0],\n",
              "        [  0,   0,   0,   0]],\n",
              "\n",
              "       [[  0,   0,   0,   0],\n",
              "        [  0,   0,   0,   0],\n",
              "        [  0,   0,   0,   0],\n",
              "        [  0,   0,   0,   0]],\n",
              "\n",
              "       [[  0,   0,   0,   0],\n",
              "        [  0,   0,   0,   0],\n",
              "        [  0,   0,   0,   0],\n",
              "        [  0,   0,   0,   0]],\n",
              "\n",
              "       [[  0,   0,   0,   0],\n",
              "        [  0,   0,   0,   0],\n",
              "        [  0,   0,   0,   0],\n",
              "        [  0,   0,   0,   0]],\n",
              "\n",
              "       [[  0,   0,   0,   0],\n",
              "        [  0,   0,   0,   0],\n",
              "        [  0,   0,   0,  31],\n",
              "        [  0,  38, 146, 240]],\n",
              "\n",
              "       [[  0,   0,   0,   0],\n",
              "        [  0,   0,   0,   0],\n",
              "        [140, 193,  44,   0],\n",
              "        [254, 254, 228,  48]],\n",
              "\n",
              "       [[  0,   0,   0,   0],\n",
              "        [  0,   0,   0,   0],\n",
              "        [  0,   0,   0,   0],\n",
              "        [ 77,  46,   0,   0]],\n",
              "\n",
              "       [[  0,   0,   0,   0],\n",
              "        [  0,   0,   0,   0],\n",
              "        [  0,   0,   0,   0],\n",
              "        [  0,   0,   0,   0]],\n",
              "\n",
              "       [[  0,   0,   0,   0],\n",
              "        [  0,   0,   0,   0],\n",
              "        [  0,   0,   0,   0],\n",
              "        [  0,   0,   0,   0]],\n",
              "\n",
              "       [[  0,   0,   0,   0],\n",
              "        [  0,   0,   0,   0],\n",
              "        [  0,   0,   0,   0],\n",
              "        [  0,   0,   0,   0]],\n",
              "\n",
              "       [[  0,   0,   0,   2],\n",
              "        [  0,   0,  21, 130],\n",
              "        [  0,   0, 154, 254],\n",
              "        [  2, 173, 252, 252]],\n",
              "\n",
              "       [[ 43, 230, 254, 254],\n",
              "        [254, 254, 254, 239],\n",
              "        [254, 249, 104,  71],\n",
              "        [206,  51, 120, 215]],\n",
              "\n",
              "       [[254, 254, 254, 241],\n",
              "        [252, 254, 254, 254],\n",
              "        [198, 254, 254, 254],\n",
              "        [254, 254, 254, 254]],\n",
              "\n",
              "       [[254, 197,   2,   0],\n",
              "        [254, 237,   4,   0],\n",
              "        [234,  57,   0,   0],\n",
              "        [184,   0,   0,   0]],\n",
              "\n",
              "       [[  0,   0,   0,   0],\n",
              "        [  0,   0,   0,   0],\n",
              "        [  0,   0,   0,   0],\n",
              "        [  0,   0,   0,   0]],\n",
              "\n",
              "       [[  0,   0,   0,   0],\n",
              "        [  0,   0,   0,   0],\n",
              "        [  0,   0,   0,   0],\n",
              "        [  0,   0,   0,   0]],\n",
              "\n",
              "       [[  0,   0,   0,   0],\n",
              "        [  0,   0,   0,   5],\n",
              "        [  0,   0,   0,   3],\n",
              "        [  0,   0,   0,   0]],\n",
              "\n",
              "       [[112, 254, 254, 215],\n",
              "        [231, 254, 254, 254],\n",
              "        [197, 254, 254, 245],\n",
              "        [ 16,  92,  88,  40]],\n",
              "\n",
              "       [[ 87, 247, 254, 254],\n",
              "        [254, 254, 236, 128],\n",
              "        [238, 131,  17,  46],\n",
              "        [  0,   0,  12, 173]],\n",
              "\n",
              "       [[254, 254, 254, 217],\n",
              "        [196, 254, 254, 119],\n",
              "        [247, 254, 199,  14],\n",
              "        [254, 242,  38,   0]],\n",
              "\n",
              "       [[ 31,   0,   0,   0],\n",
              "        [  0,   0,   0,   0],\n",
              "        [  0,   0,   0,   0],\n",
              "        [  0,   0,   0,   0]],\n",
              "\n",
              "       [[  0,   0,   0,   0],\n",
              "        [  0,   0,   0,   0],\n",
              "        [  0,   0,   0,   0],\n",
              "        [  0,   0,   0,   0]],\n",
              "\n",
              "       [[  0,   0,   0,   0],\n",
              "        [  0,   0,   0,   0],\n",
              "        [  0,   0,   0,   0],\n",
              "        [  0,   0,   0,   0]],\n",
              "\n",
              "       [[  0,   0,   0,   0],\n",
              "        [  0,   0,   0,   0],\n",
              "        [  0,   0,   0,   0],\n",
              "        [  0,   0,   0,   0]],\n",
              "\n",
              "       [[  0,   0,   0,   0],\n",
              "        [  0,   0,   0,   0],\n",
              "        [  0,   0,   0,   0],\n",
              "        [  0,   0,   0,   0]],\n",
              "\n",
              "       [[  0,   0,  95, 254],\n",
              "        [  0,  18, 210, 254],\n",
              "        [  0, 197, 254, 254],\n",
              "        [ 34, 242, 254, 179]],\n",
              "\n",
              "       [[254, 155,   0,   0],\n",
              "        [225,   6,   0,   0],\n",
              "        [ 99,   0,   0,   0],\n",
              "        [  3,   0,   0,   0]],\n",
              "\n",
              "       [[  0,   0,   0,   0],\n",
              "        [  0,   0,   0,   0],\n",
              "        [  0,   0,   0,   0],\n",
              "        [  0,   0,   0,   0]],\n",
              "\n",
              "       [[  0,   0,   0,   0],\n",
              "        [  0,   0,   0,   0],\n",
              "        [  0,   0,   0,   0],\n",
              "        [  0,   0,   0,   0]],\n",
              "\n",
              "       [[  0,   0,   0,   0],\n",
              "        [  0,   0,   0,   0],\n",
              "        [  0,   0,   0,   0],\n",
              "        [  0,   0,   0,   0]],\n",
              "\n",
              "       [[  0,   0,   0,   0],\n",
              "        [  0,   0,   0,   0],\n",
              "        [  0,   0,   0,   0],\n",
              "        [  0,   0,   0,   0]],\n",
              "\n",
              "       [[  0,   0,   0,  27],\n",
              "        [  0,   0,   0,  77],\n",
              "        [  0,   0,  54, 238],\n",
              "        [  0,  11, 183, 254]],\n",
              "\n",
              "       [[223, 254, 225,  30],\n",
              "        [254, 255, 127,   0],\n",
              "        [254, 248,  53,   0],\n",
              "        [254, 231,  41,   0]],\n",
              "\n",
              "       [[  0,   0,   0,   0],\n",
              "        [  0,   0,   0,   0],\n",
              "        [  0,   0,   0,   0],\n",
              "        [  0,   0,   0,   0]],\n",
              "\n",
              "       [[  0,   0,   0,   0],\n",
              "        [  0,   0,   0,   0],\n",
              "        [  0,   0,   0,   0],\n",
              "        [  0,   0,   0,   0]],\n",
              "\n",
              "       [[  0,   0,   0,   0],\n",
              "        [  0,   0,   0,   0],\n",
              "        [  0,   0,   0,   0],\n",
              "        [  0,   0,   0,   0]],\n",
              "\n",
              "       [[  0,   0,   0,   0],\n",
              "        [  0,   0,   0,   0],\n",
              "        [  0,   0,   0,   0],\n",
              "        [  0,   0,   0,   0]],\n",
              "\n",
              "       [[  0,   0,   0,   0],\n",
              "        [  0,   0,   0,   0],\n",
              "        [  0,   0,   0,   0],\n",
              "        [  0,   0,   0,   0]],\n",
              "\n",
              "       [[  0, 113, 254, 254],\n",
              "        [  0, 110, 239, 126],\n",
              "        [  0,   0,   0,   0],\n",
              "        [  0,   0,   0,   0]],\n",
              "\n",
              "       [[230,  48,   0,   0],\n",
              "        [ 25,   0,   0,   0],\n",
              "        [  0,   0,   0,   0],\n",
              "        [  0,   0,   0,   0]],\n",
              "\n",
              "       [[  0,   0,   0,   0],\n",
              "        [  0,   0,   0,   0],\n",
              "        [  0,   0,   0,   0],\n",
              "        [  0,   0,   0,   0]],\n",
              "\n",
              "       [[  0,   0,   0,   0],\n",
              "        [  0,   0,   0,   0],\n",
              "        [  0,   0,   0,   0],\n",
              "        [  0,   0,   0,   0]],\n",
              "\n",
              "       [[  0,   0,   0,   0],\n",
              "        [  0,   0,   0,   0],\n",
              "        [  0,   0,   0,   0],\n",
              "        [  0,   0,   0,   0]]], dtype=uint8)"
            ]
          },
          "metadata": {},
          "execution_count": 18
        }
      ]
    },
    {
      "cell_type": "code",
      "source": [
        "def get_centroid(img):\n",
        "\n",
        "    feature_vector = []\n",
        " \n",
        "    for grid in imaged_grid(img , 4 , 4 ) :\n",
        "        \n",
        "        Xc = 0 \n",
        "        Yc = 0 \n",
        "        sum = 0\n",
        "    \n",
        "        for index, x in np.ndenumerate(grid):\n",
        "          sum+= x \n",
        "          Xc += x * index[0]\n",
        "          Yc += x * index[1]\n",
        "        \n",
        "        if sum != 0 :\n",
        "            feature_vector.append( Xc/ sum )\n",
        "            feature_vector.append(Yc/ sum )\n",
        "        else :\n",
        "             feature_vector.append(0)\n",
        "             feature_vector.append(0)\n",
        "        \n",
        "    \n",
        "    return np.array(feature_vector)"
      ],
      "metadata": {
        "id": "QGyP-y7_GO-c"
      },
      "execution_count": 19,
      "outputs": []
    },
    {
      "cell_type": "code",
      "source": [
        "print(\"Feature Extraction From Training Data\")\n",
        "train_features = [get_centroid(img)  for img in train_images  ]\n",
        "print(\"Done\")"
      ],
      "metadata": {
        "colab": {
          "base_uri": "https://localhost:8080/"
        },
        "id": "uOx81Q3OJ7yK",
        "outputId": "e451878b-4c92-4c81-b7c7-a92e76256f18"
      },
      "execution_count": 20,
      "outputs": [
        {
          "output_type": "stream",
          "name": "stdout",
          "text": [
            "Feature Extraction From Training Data\n",
            "Done\n"
          ]
        }
      ]
    },
    {
      "cell_type": "code",
      "source": [
        "train_features = np.array(train_features)"
      ],
      "metadata": {
        "id": "_0eGfMeKKluX"
      },
      "execution_count": 21,
      "outputs": []
    },
    {
      "cell_type": "code",
      "source": [
        "train_features.shape"
      ],
      "metadata": {
        "colab": {
          "base_uri": "https://localhost:8080/"
        },
        "id": "hRMozKKxK_4k",
        "outputId": "c449c774-be29-4d2e-bbe8-eea9b590560f"
      },
      "execution_count": 22,
      "outputs": [
        {
          "output_type": "execute_result",
          "data": {
            "text/plain": [
              "(60000, 98)"
            ]
          },
          "metadata": {},
          "execution_count": 22
        }
      ]
    },
    {
      "cell_type": "code",
      "source": [
        "train_features[:2]"
      ],
      "metadata": {
        "colab": {
          "base_uri": "https://localhost:8080/"
        },
        "id": "krdcm7XhLB64",
        "outputId": "80abb682-2a05-4d8f-faf2-69edd07fd3cb"
      },
      "execution_count": 23,
      "outputs": [
        {
          "output_type": "execute_result",
          "data": {
            "text/plain": [
              "array([[0.        , 0.        , 0.        , 0.        , 0.        ,\n",
              "        0.        , 0.        , 0.        , 0.        , 0.        ,\n",
              "        0.        , 0.        , 0.        , 0.        , 0.        ,\n",
              "        0.        , 3.        , 3.        , 2.76048818, 1.68115942,\n",
              "        2.47797798, 1.57357357, 2.10562347, 1.20586797, 1.6419467 ,\n",
              "        1.20973349, 0.        , 0.        , 0.        , 0.        ,\n",
              "        0.        , 3.        , 0.71785335, 1.88204038, 1.16192254,\n",
              "        0.79608026, 0.28759124, 0.57664234, 0.        , 0.        ,\n",
              "        0.        , 0.        , 0.        , 0.        , 0.        ,\n",
              "        0.        , 0.        , 3.        , 1.26427489, 1.78473977,\n",
              "        2.48275862, 0.67619849, 0.        , 0.        , 0.        ,\n",
              "        0.        , 0.        , 0.        , 0.        , 0.        ,\n",
              "        0.        , 0.        , 2.7398374 , 2.20092915, 1.58961424,\n",
              "        1.63204748, 1.03030303, 0.        , 0.        , 0.        ,\n",
              "        0.        , 0.        , 2.78882682, 2.15865922, 2.06432311,\n",
              "        1.73896784, 0.9407945 , 1.24675325, 0.13495935, 0.58373984,\n",
              "        0.        , 0.        , 0.        , 0.        , 0.        ,\n",
              "        0.        , 0.        , 1.69608939, 0.        , 0.9030303 ,\n",
              "        0.        , 0.        , 0.        , 0.        , 0.        ,\n",
              "        0.        , 0.        , 0.        ],\n",
              "       [0.        , 0.        , 0.        , 0.        , 0.        ,\n",
              "        0.        , 0.        , 0.        , 0.        , 0.        ,\n",
              "        0.        , 0.        , 0.        , 0.        , 0.        ,\n",
              "        0.        , 0.        , 0.        , 3.        , 3.        ,\n",
              "        2.24156627, 2.23915663, 1.57248521, 1.41272189, 2.85616438,\n",
              "        0.29223744, 0.        , 0.        , 0.        , 0.        ,\n",
              "        0.        , 0.        , 2.04407385, 2.35556879, 1.03537467,\n",
              "        1.14187904, 0.5793238 , 1.03446034, 1.71199611, 0.61194755,\n",
              "        0.        , 0.        , 0.        , 0.        , 2.42979452,\n",
              "        2.86986301, 1.20330969, 0.76832151, 0.        , 0.59574468,\n",
              "        0.        , 0.        , 1.47515415, 0.89844033, 0.        ,\n",
              "        0.        , 0.        , 0.        , 1.50222222, 2.74740741,\n",
              "        1.4009434 , 0.02948113, 3.        , 3.        , 1.98848053,\n",
              "        1.76028524, 0.39625167, 0.37617135, 0.        , 0.        ,\n",
              "        0.        , 0.        , 0.93520518, 2.78617711, 1.6961376 ,\n",
              "        1.42184671, 1.09796082, 1.31587365, 0.22569444, 0.484375  ,\n",
              "        0.        , 0.        , 0.        , 0.        , 0.        ,\n",
              "        0.        , 0.        , 0.        , 0.        , 0.        ,\n",
              "        0.        , 0.        , 0.        , 0.        , 0.        ,\n",
              "        0.        , 0.        , 0.        ]])"
            ]
          },
          "metadata": {},
          "execution_count": 23
        }
      ]
    },
    {
      "cell_type": "code",
      "source": [
        "print(\"Feature Extraction From Test Data\")\n",
        "test_features = [get_centroid(img)  for img in test_images  ]\n",
        "print(\"Done\")"
      ],
      "metadata": {
        "colab": {
          "base_uri": "https://localhost:8080/"
        },
        "id": "zByI4NdoLOMw",
        "outputId": "258e2c3c-6e41-460b-edbb-cdd2717ac405"
      },
      "execution_count": 24,
      "outputs": [
        {
          "output_type": "stream",
          "name": "stdout",
          "text": [
            "Feature Extraction From Test Data\n",
            "Done\n"
          ]
        }
      ]
    },
    {
      "cell_type": "code",
      "source": [
        "test_features = np.array(test_features)"
      ],
      "metadata": {
        "id": "tCuGIjajLFv8"
      },
      "execution_count": 25,
      "outputs": []
    },
    {
      "cell_type": "code",
      "source": [
        "test_features.shape"
      ],
      "metadata": {
        "colab": {
          "base_uri": "https://localhost:8080/"
        },
        "id": "qQXyHgxOLard",
        "outputId": "39e6e9e2-7ec8-43e1-dfae-c78f3ef1bad6"
      },
      "execution_count": 26,
      "outputs": [
        {
          "output_type": "execute_result",
          "data": {
            "text/plain": [
              "(10000, 98)"
            ]
          },
          "metadata": {},
          "execution_count": 26
        }
      ]
    },
    {
      "cell_type": "code",
      "source": [
        "test_features[:2]"
      ],
      "metadata": {
        "colab": {
          "base_uri": "https://localhost:8080/"
        },
        "id": "F-OaOBktLec8",
        "outputId": "2f136443-a1f3-4d66-ae85-99b9399f8cdb"
      },
      "execution_count": 27,
      "outputs": [
        {
          "output_type": "execute_result",
          "data": {
            "text/plain": [
              "array([[0.        , 0.        , 0.        , 0.        , 0.        ,\n",
              "        0.        , 0.        , 0.        , 0.        , 0.        ,\n",
              "        0.        , 0.        , 0.        , 0.        , 0.        ,\n",
              "        0.        , 3.        , 2.68773234, 3.        , 0.93349754,\n",
              "        0.        , 0.        , 0.        , 0.        , 0.        ,\n",
              "        0.        , 0.        , 0.        , 0.        , 0.        ,\n",
              "        0.27549467, 2.56012177, 0.38220551, 1.66478697, 0.70998495,\n",
              "        1.52132464, 1.10528423, 1.75820657, 1.49210308, 0.26267664,\n",
              "        0.        , 0.        , 0.        , 0.        , 0.        ,\n",
              "        0.        , 0.        , 0.        , 0.        , 0.        ,\n",
              "        1.54498715, 1.79520137, 0.34645669, 0.        , 0.        ,\n",
              "        0.        , 0.        , 0.        , 0.        , 0.        ,\n",
              "        0.        , 0.        , 2.36649215, 2.65026178, 1.08368794,\n",
              "        0.42765957, 0.        , 0.        , 0.        , 0.        ,\n",
              "        0.        , 0.        , 0.        , 0.        , 2.81097561,\n",
              "        3.        , 1.42141694, 1.30537459, 0.        , 0.        ,\n",
              "        0.        , 0.        , 0.        , 0.        , 0.        ,\n",
              "        0.        , 0.        , 0.        , 1.06837607, 2.71225071,\n",
              "        0.74191063, 0.52003082, 0.        , 0.        , 0.        ,\n",
              "        0.        , 0.        , 0.        ],\n",
              "       [0.        , 0.        , 0.        , 0.        , 3.        ,\n",
              "        2.5186722 , 3.        , 1.46209386, 3.        , 0.        ,\n",
              "        0.        , 0.        , 0.        , 0.        , 0.        ,\n",
              "        0.        , 2.59689922, 3.        , 1.36767819, 1.4047283 ,\n",
              "        0.97991632, 1.83640167, 1.58545727, 0.26761619, 0.        ,\n",
              "        0.        , 0.        , 0.        , 0.        , 0.        ,\n",
              "        0.        , 0.        , 0.        , 0.36734694, 1.71358859,\n",
              "        1.94594595, 0.56706282, 0.12733447, 0.        , 0.        ,\n",
              "        0.        , 0.        , 0.        , 0.        , 0.        ,\n",
              "        0.        , 1.978157  , 2.57201365, 1.07054871, 0.59518477,\n",
              "        0.        , 0.        , 0.        , 0.        , 0.        ,\n",
              "        0.        , 0.        , 0.        , 0.        , 0.        ,\n",
              "        1.52922286, 1.43384714, 1.08154506, 0.51502146, 3.        ,\n",
              "        2.33333333, 3.        , 2.20448179, 3.        , 0.54397394,\n",
              "        0.        , 0.        , 0.        , 0.        , 0.72092014,\n",
              "        1.63585069, 0.92302235, 1.58460447, 0.96828047, 1.46994992,\n",
              "        0.50585242, 1.40763359, 0.31630435, 0.79347826, 0.        ,\n",
              "        0.        , 0.        , 0.        , 0.        , 0.        ,\n",
              "        0.        , 0.        , 0.        , 0.        , 0.        ,\n",
              "        0.        , 0.        , 0.        ]])"
            ]
          },
          "metadata": {},
          "execution_count": 27
        }
      ]
    },
    {
      "cell_type": "code",
      "source": [
        "def KNN(train_features, test_features, train_labels):\n",
        "    knn = KNeighborsClassifier(4)\n",
        "    knn.fit(train_features, train_labels)  # fit train data\n",
        "    prediction = knn.predict(test_features)  # test data\n",
        "    return prediction"
      ],
      "metadata": {
        "id": "B6uH1rPeLkyl"
      },
      "execution_count": 35,
      "outputs": []
    },
    {
      "cell_type": "code",
      "source": [
        "Knn_prediction = KNN(train_features, test_features , train_labels )"
      ],
      "metadata": {
        "id": "C8UtLNn2LpGJ"
      },
      "execution_count": 29,
      "outputs": []
    },
    {
      "cell_type": "code",
      "source": [
        "print(\"Accuracy =\", accuracy_score(test_labels, Knn_prediction) * 100, \"%\")"
      ],
      "metadata": {
        "colab": {
          "base_uri": "https://localhost:8080/"
        },
        "id": "Z6j0LTtELwdm",
        "outputId": "c5065e81-a8d7-4a3b-9996-054e9797ada4"
      },
      "execution_count": 30,
      "outputs": [
        {
          "output_type": "stream",
          "name": "stdout",
          "text": [
            "Accuracy = 91.71000000000001 %\n"
          ]
        }
      ]
    }
  ]
}